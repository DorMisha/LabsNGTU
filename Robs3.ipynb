{
  "nbformat": 4,
  "nbformat_minor": 0,
  "metadata": {
    "colab": {
      "name": "Robs3.ipynb",
      "provenance": []
    },
    "kernelspec": {
      "name": "python3",
      "display_name": "Python 3"
    },
    "language_info": {
      "name": "python"
    }
  },
  "cells": [
    {
      "cell_type": "code",
      "metadata": {
        "id": "RE2gKwuriXir"
      },
      "source": [
        "# Подключение модулей\n",
        "from keras.models import Sequential\n",
        "from keras.layers.core import Activation, Flatten, Dense, Dropout\n",
        "from keras.layers.convolutional import Convolution2D, MaxPooling2D, ZeroPadding2D\n",
        "from keras.optimizers import SGD\n",
        "from tensorflow.python.keras.preprocessing.image import ImageDataGenerator\n",
        "from keras.applications.xception import Xception, preprocess_input\n",
        "import cv2, numpy as np"
      ],
      "execution_count": null,
      "outputs": []
    },
    {
      "cell_type": "code",
      "metadata": {
        "id": "fkUtFlWGjbt0"
      },
      "source": [
        "from google.colab import drive\n",
        "drive.mount('/content/drive')"
      ],
      "execution_count": null,
      "outputs": []
    },
    {
      "cell_type": "code",
      "metadata": {
        "id": "4bp9NwByjfVo"
      },
      "source": [
        "# Пути к наборам данных\n",
        "train_dir = '/content/drive/MyDrive/horses_or_humans/train'\n",
        "test_dir = '/content/drive/MyDrive/horses_or_humans/val' \n",
        "# Размер изображений\n",
        "img_width, img_height = 300, 300\n",
        "# Размер мини-выборки\n",
        "batch_size = 64\n",
        "# Кол-во изображений для обучения\n",
        "nb_train_samples = 1027\n",
        "# Кол-во изображений для теста\n",
        "nb_test_samples = 256"
      ],
      "execution_count": null,
      "outputs": []
    },
    {
      "cell_type": "code",
      "metadata": {
        "id": "nUbs7eJrjpoI"
      },
      "source": [
        "# Создание генератора изображений\n",
        "datagen = ImageDataGenerator(rescale=1. / 255)\n",
        "\n",
        "train_generator = datagen.flow_from_directory(\n",
        "    train_dir,\n",
        "    target_size=(img_width, img_height),\n",
        "    batch_size=batch_size,\n",
        "    class_mode='binary')\n",
        "\n",
        "test_generator = datagen.flow_from_directory(\n",
        "    test_dir,\n",
        "    target_size=(img_width, img_height),\n",
        "    batch_size=batch_size,\n",
        "    class_mode='binary')"
      ],
      "execution_count": null,
      "outputs": []
    },
    {
      "cell_type": "code",
      "metadata": {
        "id": "Xab8q4gIjzwg"
      },
      "source": [
        "# Создание экземпляра модели сети VGG16\n",
        "xception = Xception(\n",
        "    weights='imagenet', \n",
        "    include_top=False, \n",
        "    input_shape=(img_width, img_height, 3))\n",
        "# weights - веса предварительно обученной сети\n",
        "# include_top = false означает, что мы загружаем только сверточную часть сети, без квалификационной\n",
        "# input_shape - размер тензора\n",
        "\n",
        "# Сверточную часть сети обучать не надо\n",
        "xception.trainable = False\n",
        "\n",
        "xception.summary()"
      ],
      "execution_count": null,
      "outputs": []
    },
    {
      "cell_type": "code",
      "metadata": {
        "id": "ExGB5Cfvlp01"
      },
      "source": [
        "# Создание модели составной сети\n",
        "model = Sequential()\n",
        "# Добавляем сверточные слои\n",
        "model.add(vgg16_net)\n",
        "# Преобразуем двумерный массив vgg16 в одномерный\n",
        "model.add(Flatten())\n",
        "# Полносвязный слой\n",
        "model.add(Dense(256, activation='relu'))\n",
        "# Слой регуляризации (для предотвращения переобучения)\n",
        "model.add(Dropout(0.5))\n",
        "# Кол-во классов\n",
        "model.add(Dense(1, activation='sigmoid'))\n",
        "model.summary()"
      ],
      "execution_count": null,
      "outputs": []
    },
    {
      "cell_type": "code",
      "metadata": {
        "id": "FgyD9DI7j5gR"
      },
      "source": [
        "model.compile(loss='binary_crossentropy',\n",
        "              optimizer='SGD', \n",
        "              metrics=['accuracy'])"
      ],
      "execution_count": null,
      "outputs": []
    },
    {
      "cell_type": "code",
      "metadata": {
        "id": "CbcavFYykBsr"
      },
      "source": [
        "model.fit_generator(\n",
        "    train_generator,\n",
        "    steps_per_epoch=nb_train_samples // batch_size,\n",
        "    epochs=5,\n",
        "    validation_data=test_generator,\n",
        "    validation_steps=nb_test_samples // batch_size)"
      ],
      "execution_count": null,
      "outputs": []
    },
    {
      "cell_type": "code",
      "metadata": {
        "id": "kYsD-YeVkHbI"
      },
      "source": [
        "# Проверяем модель на тестовой выборке\n",
        "scores = model.evaluate_generator(test_generator, nb_test_samples // batch_size)\n",
        "print('Точность работы на тестовых данных: %.2f%%' % (scores[1]*100))"
      ],
      "execution_count": null,
      "outputs": []
    }
  ]
}